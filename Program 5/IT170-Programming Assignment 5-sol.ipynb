{
 "cells": [
  {
   "cell_type": "markdown",
   "metadata": {
    "id": "UtqLJf7HnyRV"
   },
   "source": [
    "##IT 170 Programming Assignment 5\n",
    "\n",
    "Answers to this assignment are due by the time specified on Reggienet. You need submit your solution as required below to the ReggieNet.\n",
    "No late submission!!!\n",
    " \n",
    "Python Log Analysis Application (35%)\n",
    "\n",
    "In this programming assignment, you will do develop a Python application that take user information from multiple files into a Python dictionary data structure (which could be very easily saved into a database later).\n",
    "\n",
    "You should unzip all files to a subfolder UserLog under the folder where you save the source code. (The zip file UserLog.zip can be downloaded from ReggieNet.)\n",
    "\n",
    "Assume that each text file contains the following user information: \n",
    "*  the first and last names of a user in the beginning of a text file; \n",
    "*  an email address; and \n",
    "*  an IP address the user used to register his/her account. \n",
    "\n",
    "For example, a text file may contain the content: “Glen Wilson used gwilson@gmail.com to register his service from 172.39.112.76.”\n",
    "\n",
    "Write a program called p5.py to: \n",
    "1.   (20 points) retrieve user name (first name and last name), email address, and IP address from each text file; \n",
    "2.   (10 points) save all user information into a Python dictionary called userInfoDict with the email address as the key, and both user name and the access IP address as the value; \n",
    "3.   (5 points) Print userInfoDict.\n",
    "\n",
    "\n",
    "Your Deliverables:  P5.py.\n"
   ]
  },
  {
   "cell_type": "code",
   "execution_count": 4,
   "metadata": {
    "colab": {
     "base_uri": "https://localhost:8080/"
    },
    "executionInfo": {
     "elapsed": 608,
     "status": "ok",
     "timestamp": 1650925803811,
     "user": {
      "displayName": "Yongning Tang",
      "userId": "15267084954923866581"
     },
     "user_tz": 300
    },
    "id": "_j7hm9i3m_Pw",
    "outputId": "60d838aa-81aa-48ad-bfc4-2812cea44c29"
   },
   "outputs": [
    {
     "name": "stdout",
     "output_type": "stream",
     "text": [
      "Drive already mounted at /content/drive; to attempt to forcibly remount, call drive.mount(\"/content/drive\", force_remount=True).\n"
     ]
    }
   ],
   "source": [
    "from google.colab import drive\n",
    "drive.mount('/content/drive')"
   ]
  },
  {
   "cell_type": "code",
   "execution_count": 5,
   "metadata": {
    "colab": {
     "base_uri": "https://localhost:8080/"
    },
    "executionInfo": {
     "elapsed": 91,
     "status": "ok",
     "timestamp": 1650925805681,
     "user": {
      "displayName": "Yongning Tang",
      "userId": "15267084954923866581"
     },
     "user_tz": 300
    },
    "id": "zxxiSO3PnAQX",
    "outputId": "298b0d79-ab11-4a17-9d8b-6b46cb1fe7ce"
   },
   "outputs": [
    {
     "name": "stdout",
     "output_type": "stream",
     "text": [
      "/content/drive/My Drive/Colab Notebooks/IT170\n"
     ]
    }
   ],
   "source": [
    "import os\n",
    "os.chdir(\"/content/drive/My Drive/Colab Notebooks/IT170\")\n",
    "currentDirectoryPath = os.getcwd()\n",
    "print(currentDirectoryPath)"
   ]
  },
  {
   "cell_type": "markdown",
   "metadata": {
    "id": "fTL8LfHe5Xc0"
   },
   "source": [
    "If you want to unmount the drive and release the previously granted permission, go to Menu - Runtime - Factory reset runtime."
   ]
  },
  {
   "cell_type": "code",
   "execution_count": null,
   "metadata": {
    "colab": {
     "base_uri": "https://localhost:8080/",
     "height": 136
    },
    "executionInfo": {
     "elapsed": 2021,
     "status": "ok",
     "timestamp": 1586213396527,
     "user": {
      "displayName": "Yongning Tang",
      "photoUrl": "",
      "userId": "15267084954923866581"
     },
     "user_tz": 300
    },
    "id": "hhEmdKByoB0k",
    "outputId": "8ffd6340-7fd8-422a-d9e4-9b2ec2223348"
   },
   "outputs": [
    {
     "name": "stdout",
     "output_type": "stream",
     "text": [
      "Archive:  UserLog.zip\n",
      "   creating: UserLog/\n",
      "  inflating: UserLog/t1.txt          \n",
      "  inflating: UserLog/t2.txt          \n",
      "  inflating: UserLog/t3.txt          \n",
      "  inflating: UserLog/t4.txt          \n",
      "  inflating: UserLog/t5.txt          \n"
     ]
    }
   ],
   "source": [
    "!unzip UserLog.zip"
   ]
  },
  {
   "cell_type": "code",
   "execution_count": null,
   "metadata": {
    "colab": {
     "base_uri": "https://localhost:8080/"
    },
    "executionInfo": {
     "elapsed": 103,
     "status": "ok",
     "timestamp": 1650922602499,
     "user": {
      "displayName": "Yongning Tang",
      "userId": "15267084954923866581"
     },
     "user_tz": 300
    },
    "id": "QrKP40kAs_kc",
    "outputId": "d0cf9fa3-5f8b-4e6e-bc26-b8cbb95a1b7e"
   },
   "outputs": [
    {
     "name": "stdout",
     "output_type": "stream",
     "text": [
      "/content/drive/My Drive/Colab Notebooks/IT170\n"
     ]
    }
   ],
   "source": [
    "import os\n",
    "os.chdir(\"/content/drive/My Drive/Colab Notebooks/IT170/\")\n",
    "currentDirectoryPath = os.getcwd()\n",
    "print(currentDirectoryPath)"
   ]
  },
  {
   "cell_type": "code",
   "execution_count": 14,
   "metadata": {
    "colab": {
     "base_uri": "https://localhost:8080/"
    },
    "executionInfo": {
     "elapsed": 111,
     "status": "ok",
     "timestamp": 1650926381343,
     "user": {
      "displayName": "Yongning Tang",
      "userId": "15267084954923866581"
     },
     "user_tz": 300
    },
    "id": "wT0P2y_J-Tuj",
    "outputId": "f9198707-c0ff-415a-e5cd-87b69f01fed5"
   },
   "outputs": [
    {
     "name": "stdout",
     "output_type": "stream",
     "text": [
      "{'gwilson@gmail.com': ['Glen Wilson', '172.39.112.76'], 'cindy@gmail.com,': ['Cindy Tady', '123.18.19.20'], 'emma@att.com.': ['Emma Lim', '11.11.11.11'], 'asmith@xfinity.com.': ['Anna Smith', '172.28.19.15'], 'hosack@comcast.com.': ['Jack Hosack', '196.88.45.23']}\n"
     ]
    }
   ],
   "source": [
    "import os, re\n",
    "\n",
    "currentDir = os.getcwd()\n",
    "\n",
    "workDir = os.path.join(currentDir, \"UserLog\")\n",
    "\n",
    "userInfoDict = {}\n",
    "\n",
    "for filename in os.listdir(workDir):\n",
    "    pathFilename = os.path.join(workDir, filename)\n",
    "    #print(pathFilename)\n",
    "    userLogFile = open(pathFilename)\n",
    "\n",
    "    value = []\n",
    "\n",
    "    for line in userLogFile:\n",
    "        email = re.search(r\"\\S+@\\S+\",line)\n",
    "        name = re.search(r'^\\w+\\s+\\w+',line)\n",
    "        ip = re.search( r'[0-9]+(?:\\.[0-9]+){3}', line)\n",
    "\n",
    "        value.append(name.group())\n",
    "        value.append(ip.group())\n",
    "        userInfoDict[email.group()] = value\n",
    "\n",
    "print(userInfoDict)\n"
   ]
  }
 ],
 "metadata": {
  "colab": {
   "collapsed_sections": [],
   "name": "IT170-Programming Assignment 5-sol.ipynb",
   "provenance": [
    {
     "file_id": "1aPe-ixGNn4IT5Fu7-lFEHnFQhs3ori13",
     "timestamp": 1650921998667
    },
    {
     "file_id": "1yhxUWA7iuQWne6nu0kORS03NrNhO9yWr",
     "timestamp": 1585500373715
    }
   ]
  },
  "kernelspec": {
   "display_name": "Python 3",
   "language": "python",
   "name": "python3"
  },
  "language_info": {
   "codemirror_mode": {
    "name": "ipython",
    "version": 3
   },
   "file_extension": ".py",
   "mimetype": "text/x-python",
   "name": "python",
   "nbconvert_exporter": "python",
   "pygments_lexer": "ipython3",
   "version": "3.8.8"
  }
 },
 "nbformat": 4,
 "nbformat_minor": 1
}
