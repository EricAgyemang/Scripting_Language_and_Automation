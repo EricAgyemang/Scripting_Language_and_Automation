{
 "cells": [
  {
   "cell_type": "markdown",
   "metadata": {
    "id": "UtqLJf7HnyRV"
   },
   "source": [
    "##IT 170 Programming Assignment 5\n",
    "\n",
    "Answers to this assignment are due by the time specified on Reggienet. You need submit your solution as required below to the ReggieNet.\n",
    "No late submission!!!\n",
    " \n",
    "Python Log Analysis Application (35%)\n",
    "\n",
    "In this programming assignment, you will do develop a Python application that take user information from multiple files into a Python dictionary data structure (which could be very easily saved into a database later).\n",
    "\n",
    "You should unzip all files to a subfolder UserLog under the folder where you save the source code. (The zip file UserLog.zip can be downloaded from ReggieNet.)\n",
    "\n",
    "Assume that each text file contains the following user information: \n",
    "*  the first and last names of a user in the beginning of a text file; \n",
    "*  an email address; and \n",
    "*  an IP address the user used to register his/her account. \n",
    "\n",
    "For example, a text file may contain the content: “Glen Wilson used gwilson@gmail.com to register his service from 172.39.112.76.”\n",
    "\n",
    "Write a program called p5.py to: \n",
    "1.   (20 points) retrieve user name (first name and last name), email address, and IP address from each text file; \n",
    "2.   (10 points) save all user information into a Python dictionary called userInfoDict with the email address as the key, and both user name and the access IP address as the value; \n",
    "3.   (5 points) Print userInfoDict.\n",
    "\n",
    "\n",
    "Your Deliverables:  P5.py.\n"
   ]
  },
  {
   "cell_type": "code",
   "execution_count": 1,
   "metadata": {
    "colab": {
     "base_uri": "https://localhost:8080/"
    },
    "executionInfo": {
     "elapsed": 91,
     "status": "ok",
     "timestamp": 1650925805681,
     "user": {
      "displayName": "Yongning Tang",
      "userId": "15267084954923866581"
     },
     "user_tz": 300
    },
    "id": "zxxiSO3PnAQX",
    "outputId": "298b0d79-ab11-4a17-9d8b-6b46cb1fe7ce"
   },
   "outputs": [
    {
     "name": "stdout",
     "output_type": "stream",
     "text": [
      "C:\\Users\\itstudent\\Desktop\\GTA\\IT 170 Scripting Lanuage and Automation\\Prog 5\n"
     ]
    }
   ],
   "source": [
    "import os\n",
    "import re\n",
    "\n",
    "path = r'C:\\Users\\itstudent\\Desktop\\GTA\\IT 170 Scripting Lanuage and Automation\\Prog 5'\n",
    "os.chdir(path)\n",
    "\n",
    "currentDirectoryPath = os.getcwd()\n",
    "print(currentDirectoryPath)"
   ]
  },
  {
   "cell_type": "markdown",
   "metadata": {
    "id": "fTL8LfHe5Xc0"
   },
   "source": [
    "If you want to unmount the drive and release the previously granted permission, go to Menu - Runtime - Factory reset runtime."
   ]
  },
  {
   "cell_type": "code",
   "execution_count": 2,
   "metadata": {
    "colab": {
     "base_uri": "https://localhost:8080/",
     "height": 136
    },
    "executionInfo": {
     "elapsed": 2021,
     "status": "ok",
     "timestamp": 1586213396527,
     "user": {
      "displayName": "Yongning Tang",
      "photoUrl": "",
      "userId": "15267084954923866581"
     },
     "user_tz": 300
    },
    "id": "hhEmdKByoB0k",
    "outputId": "8ffd6340-7fd8-422a-d9e4-9b2ec2223348"
   },
   "outputs": [
    {
     "name": "stderr",
     "output_type": "stream",
     "text": [
      "'unzip' is not recognized as an internal or external command,\n",
      "operable program or batch file.\n"
     ]
    }
   ],
   "source": [
    "!unzip UserLog.zip"
   ]
  },
  {
   "cell_type": "code",
   "execution_count": 3,
   "metadata": {
    "colab": {
     "base_uri": "https://localhost:8080/"
    },
    "executionInfo": {
     "elapsed": 103,
     "status": "ok",
     "timestamp": 1650922602499,
     "user": {
      "displayName": "Yongning Tang",
      "userId": "15267084954923866581"
     },
     "user_tz": 300
    },
    "id": "QrKP40kAs_kc",
    "outputId": "d0cf9fa3-5f8b-4e6e-bc26-b8cbb95a1b7e"
   },
   "outputs": [
    {
     "name": "stdout",
     "output_type": "stream",
     "text": [
      "C:\\Users\\itstudent\\Desktop\\GTA\\IT 170 Scripting Lanuage and Automation\\Prog 5\n"
     ]
    }
   ],
   "source": [
    "import os\n",
    "currentDirectoryPath = os.getcwd()\n",
    "print(currentDirectoryPath)"
   ]
  },
  {
   "cell_type": "code",
   "execution_count": 12,
   "metadata": {},
   "outputs": [
    {
     "name": "stdout",
     "output_type": "stream",
     "text": [
      "C:\\Users\\itstudent\\Desktop\\GTA\\IT 170 Scripting Lanuage and Automation\\Prog 5\\UserLog\n",
      "User gwilson@gmail.com: ['Glen Wilson', '172.39.112.76']\n",
      "User cindy@gmail.com: ['Cindy Tady', '123.18.19.20']\n",
      "User emma@att.com: ['Emma Lim', '11.11.11.11']\n",
      "User asmith@xfinity.com: ['Anna Smith', '172.28.19.15']\n",
      "User hosack@comcast.com: ['Jack Hosack', '196.88.45.23']\n"
     ]
    }
   ],
   "source": [
    "import re\n",
    "from pathlib import Path\n",
    "import os\n",
    "\n",
    "\n",
    "\n",
    "class Database:\n",
    "    def __init__(self):\n",
    "        self.data = []\n",
    "        self.userInfoDict = {}\n",
    "\n",
    "    def openFolder(self, path, foldername):\n",
    "        p = Path(path)\n",
    "        p = p.joinpath(foldername)\n",
    "        os.chdir(p)\n",
    "        print(os.getcwd())\n",
    "        for filename in os.listdir(os.getcwd()):\n",
    "            with open(filename) as file:\n",
    "                self.data.append(file.read())\n",
    "\n",
    "    def getusers(self):\n",
    "        for item in self.data:\n",
    "            user1 = User()\n",
    "            user1.inputstring(item)\n",
    "            user1.getname()\n",
    "            user1.getemail()\n",
    "            user1.getip()\n",
    "            info = [user1.name, user1.ip]\n",
    "            self.userInfoDict[user1.email] = info\n",
    "\n",
    "database1 = Database()\n",
    "database1.openFolder(\".\", \"UserLog\")\n",
    "database1.getusers()\n",
    "for item in database1.userInfoDict:\n",
    "    print(\"User {}: {}\".format(item, database1.userInfoDict[item]))\n",
    "\n",
    "class User:\n",
    "    def __init__(self):\n",
    "        self.data = \"\"\n",
    "        self.name = \"\"\n",
    "        self.email = \"\"\n",
    "        self.ip = \"\"\n",
    "\n",
    "    def inputstring(self, inputstr):\n",
    "        self.data = inputstr\n",
    "\n",
    "    def getname(self):\n",
    "        nameRE = r\"[A-Z][a-z]+\"\n",
    "        nameREObj = re.compile(nameRE)\n",
    "        matchlist = nameREObj.findall(self.data)\n",
    "        self.name = (matchlist[0] + \" \" + matchlist[1])\n",
    "\n",
    "    def getemail(self):\n",
    "        emailRE = r\"[a-z]+[@]{1}.+[.]{1}[a-z]+\"\n",
    "        emailREObj = re.compile(emailRE)\n",
    "        match = emailREObj.findall(self.data)\n",
    "        if len(match) > 0:\n",
    "            self.email = match[0]\n",
    "\n",
    "    def getip(self):\n",
    "        ipRE = r\"[0-9]+[.]{1}[0-9]+[.]{1}[0-9]+[.]{1}[0-9]+\"\n",
    "        ipREObj = re.compile(ipRE)\n",
    "        match = ipREObj.findall(self.data)\n",
    "        if len(match) > 0:\n",
    "            self.ip = match[0]\n"
   ]
  },
  {
   "cell_type": "code",
   "execution_count": null,
   "metadata": {},
   "outputs": [],
   "source": []
  }
 ],
 "metadata": {
  "colab": {
   "collapsed_sections": [],
   "name": "IT170-Programming Assignment 5-sol.ipynb",
   "provenance": [
    {
     "file_id": "1aPe-ixGNn4IT5Fu7-lFEHnFQhs3ori13",
     "timestamp": 1650921998667
    },
    {
     "file_id": "1yhxUWA7iuQWne6nu0kORS03NrNhO9yWr",
     "timestamp": 1585500373715
    }
   ]
  },
  "kernelspec": {
   "display_name": "Python 3",
   "language": "python",
   "name": "python3"
  },
  "language_info": {
   "codemirror_mode": {
    "name": "ipython",
    "version": 3
   },
   "file_extension": ".py",
   "mimetype": "text/x-python",
   "name": "python",
   "nbconvert_exporter": "python",
   "pygments_lexer": "ipython3",
   "version": "3.8.8"
  }
 },
 "nbformat": 4,
 "nbformat_minor": 1
}
