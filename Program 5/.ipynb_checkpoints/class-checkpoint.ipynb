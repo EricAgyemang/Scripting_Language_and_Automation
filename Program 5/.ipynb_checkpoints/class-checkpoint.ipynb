{
 "cells": [
  {
   "cell_type": "markdown",
   "metadata": {
    "id": "UtqLJf7HnyRV"
   },
   "source": [
    "##IT 170 Programming Assignment 5\n",
    "\n",
    "Answers to this assignment are due by the time specified on Reggienet. You need submit your solution as required below to the ReggieNet.\n",
    "No late submission!!!\n",
    " \n",
    "Python Log Analysis Application (35%)\n",
    "\n",
    "In this programming assignment, you will do develop a Python application that take user information from multiple files into a Python dictionary data structure (which could be very easily saved into a database later).\n",
    "\n",
    "You should unzip all files to a subfolder UserLog under the folder where you save the source code. (The zip file UserLog.zip can be downloaded from ReggieNet.)\n",
    "\n",
    "Assume that each text file contains the following user information: \n",
    "*  the first and last names of a user in the beginning of a text file; \n",
    "*  an email address; and \n",
    "*  an IP address the user used to register his/her account. \n",
    "\n",
    "For example, a text file may contain the content: “Glen Wilson used gwilson@gmail.com to register his service from 172.39.112.76.”\n",
    "\n",
    "Write a program called p5.py to: \n",
    "1.   (20 points) retrieve user name (first name and last name), email address, and IP address from each text file; \n",
    "2.   (10 points) save all user information into a Python dictionary called userInfoDict with the email address as the key, and both user name and the access IP address as the value; \n",
    "3.   (5 points) Print userInfoDict.\n",
    "\n",
    "\n",
    "Your Deliverables:  P5.py.\n"
   ]
  },
  {
   "cell_type": "code",
   "execution_count": 9,
   "metadata": {
    "colab": {
     "base_uri": "https://localhost:8080/"
    },
    "executionInfo": {
     "elapsed": 91,
     "status": "ok",
     "timestamp": 1650925805681,
     "user": {
      "displayName": "Yongning Tang",
      "userId": "15267084954923866581"
     },
     "user_tz": 300
    },
    "id": "zxxiSO3PnAQX",
    "outputId": "298b0d79-ab11-4a17-9d8b-6b46cb1fe7ce"
   },
   "outputs": [
    {
     "name": "stdout",
     "output_type": "stream",
     "text": [
      "C:\\Users\\itstudent\\Desktop\\GTA\\IT 170 Scripting Lanuage and Automation\\Prog 5\n"
     ]
    }
   ],
   "source": [
    "import os\n",
    "import re\n",
    "\n",
    "path = r'C:\\Users\\itstudent\\Desktop\\GTA\\IT 170 Scripting Lanuage and Automation\\Prog 5'\n",
    "os.chdir(path)\n",
    "\n",
    "currentDirectoryPath = os.getcwd()\n",
    "print(currentDirectoryPath)"
   ]
  },
  {
   "cell_type": "markdown",
   "metadata": {
    "id": "fTL8LfHe5Xc0"
   },
   "source": [
    "If you want to unmount the drive and release the previously granted permission, go to Menu - Runtime - Factory reset runtime."
   ]
  },
  {
   "cell_type": "code",
   "execution_count": 10,
   "metadata": {
    "colab": {
     "base_uri": "https://localhost:8080/",
     "height": 136
    },
    "executionInfo": {
     "elapsed": 2021,
     "status": "ok",
     "timestamp": 1586213396527,
     "user": {
      "displayName": "Yongning Tang",
      "photoUrl": "",
      "userId": "15267084954923866581"
     },
     "user_tz": 300
    },
    "id": "hhEmdKByoB0k",
    "outputId": "8ffd6340-7fd8-422a-d9e4-9b2ec2223348"
   },
   "outputs": [
    {
     "name": "stderr",
     "output_type": "stream",
     "text": [
      "'unzip' is not recognized as an internal or external command,\n",
      "operable program or batch file.\n"
     ]
    }
   ],
   "source": [
    "!unzip UserLog.zip"
   ]
  },
  {
   "cell_type": "code",
   "execution_count": 11,
   "metadata": {
    "colab": {
     "base_uri": "https://localhost:8080/"
    },
    "executionInfo": {
     "elapsed": 103,
     "status": "ok",
     "timestamp": 1650922602499,
     "user": {
      "displayName": "Yongning Tang",
      "userId": "15267084954923866581"
     },
     "user_tz": 300
    },
    "id": "QrKP40kAs_kc",
    "outputId": "d0cf9fa3-5f8b-4e6e-bc26-b8cbb95a1b7e"
   },
   "outputs": [
    {
     "name": "stdout",
     "output_type": "stream",
     "text": [
      "C:\\Users\\itstudent\\Desktop\\GTA\\IT 170 Scripting Lanuage and Automation\\Prog 5\n"
     ]
    }
   ],
   "source": [
    "import os\n",
    "currentDirectoryPath = os.getcwd()\n",
    "print(currentDirectoryPath)"
   ]
  },
  {
   "cell_type": "code",
   "execution_count": 13,
   "metadata": {},
   "outputs": [
    {
     "name": "stdout",
     "output_type": "stream",
     "text": [
      "{<re.Match object; span=(17, 34), match='gwilson@gmail.com'>: ['Glen Wilson', <re.Match object; span=(64, 77), match='172.39.112.76'>]}\n",
      "{<re.Match object; span=(42, 57), match='cindy@gmail.com'>: ['Cindy Tady', <re.Match object; span=(80, 92), match='123.18.19.20'>]}\n",
      "{<re.Match object; span=(97, 110), match='emma@att.com.'>: ['Emma Lim', <re.Match object; span=(76, 87), match='11.11.11.11'>]}\n",
      "{<re.Match object; span=(77, 96), match='asmith@xfinity.com.'>: ['Anna Smith', <re.Match object; span=(47, 59), match='172.28.19.15'>]}\n",
      "{<re.Match object; span=(57, 76), match='hosack@comcast.com.'>: ['Jack Hosack', <re.Match object; span=(95, 107), match='196.88.45.23'>]}\n"
     ]
    }
   ],
   "source": [
    "def find_email(file_path):\n",
    "    with open(file_path, 'r') as f:\n",
    "        data = f.readlines()\n",
    "        for item in data:\n",
    "            match = re.search(r'[\\w.+-]+@[\\w-]+\\.[\\w.-]+', item)\n",
    "\n",
    "            return match\n",
    "\n",
    "def find_ip(file_path):\n",
    "    with open(file_path, 'r') as f:\n",
    "        data = f.readlines()\n",
    "        for item in data:\n",
    "            match = re.search(r'(\\d{1,3}\\.\\d{1,3}\\.\\d{1,3}\\.\\d{1,3})', item)\n",
    "            return match\n",
    "\n",
    "def find_name(file_path):\n",
    "    with open(file_path, 'r') as f:\n",
    "        data = f.readlines()\n",
    "        for item in data:\n",
    "            s1 = item.strip()\n",
    "            s2 = s1.split(' ')\n",
    "            name = s2[0] +' '+ s2[1]\n",
    "            return name\n",
    "\n",
    "\n",
    "\n",
    "for file in os.listdir():\n",
    "    if file.endswith('.txt'):\n",
    "        file_path = f'{path}\\{file}'\n",
    "\n",
    "        value = [find_name(file_path), find_ip(file_path)]\n",
    "        userInfoDict = {find_email(file_path): value}\n",
    "        print(userInfoDict)\n"
   ]
  },
  {
   "cell_type": "code",
   "execution_count": null,
   "metadata": {},
   "outputs": [],
   "source": []
  }
 ],
 "metadata": {
  "colab": {
   "collapsed_sections": [],
   "name": "IT170-Programming Assignment 5-sol.ipynb",
   "provenance": [
    {
     "file_id": "1aPe-ixGNn4IT5Fu7-lFEHnFQhs3ori13",
     "timestamp": 1650921998667
    },
    {
     "file_id": "1yhxUWA7iuQWne6nu0kORS03NrNhO9yWr",
     "timestamp": 1585500373715
    }
   ]
  },
  "kernelspec": {
   "display_name": "Python 3",
   "language": "python",
   "name": "python3"
  },
  "language_info": {
   "codemirror_mode": {
    "name": "ipython",
    "version": 3
   },
   "file_extension": ".py",
   "mimetype": "text/x-python",
   "name": "python",
   "nbconvert_exporter": "python",
   "pygments_lexer": "ipython3",
   "version": "3.8.8"
  }
 },
 "nbformat": 4,
 "nbformat_minor": 1
}
