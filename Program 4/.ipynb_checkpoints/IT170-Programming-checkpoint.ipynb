{
 "cells": [
  {
   "cell_type": "markdown",
   "metadata": {
    "id": "rRqT2HbVgrWR"
   },
   "source": [
    "#**IT 170 Programming Assignment 4**\n",
    "\n",
    "Answers to this assignment are due by ***the time specified on Reggienet***.\n",
    "You need submit your solution as required below to the ReggieNet. \n",
    "\n",
    "**No late submission**!!!"
   ]
  },
  {
   "cell_type": "markdown",
   "metadata": {
    "id": "jpik38WWLOuZ"
   },
   "source": [
    "###Background about Linear regression:\n",
    "\n",
    "Please refer to previous assignments.\n",
    "\n",
    "##**Object-Oriented Simple Linear Regression (35%)**\n",
    "\n",
    "In this programming assignment, you will implement a Simple Linear Regression model using OOP to analyze a dataset from a CSV file. \n",
    "\n",
    "**Objective:**\n",
    "* Understand the OOP concept and apply it to solve a practical problem.\n",
    "\n",
    "**Requirements:**\n",
    "1. (25 points) Define a class called MyLinearRegression following the  following structure:\n",
    "2. (15 points) Write a Python application called myLinearRegressor to use MyLinearRegression based on the data from the CSV file.\n",
    "\n",
    "####**Expected output**: \n",
    "\n",
    "The coefficients b0 is ###; b1 is ###; RMSE is ###\n",
    "\n",
    "####**Your Deliverables**:\n",
    "•\tAll codes can be included in a single filr slr.py\n",
    "\n",
    "####**Sample Code**: \n",
    "```\n",
    "class MyLinearRegression:\n",
    "\n",
    "    def __init__(self):\n",
    "        self.coef = None      #i.e., b1\n",
    "        self.intercept = None #i.e., b0\n",
    "        self.dataList = []\n",
    "        self.trainDataSet = []\n",
    "        self.testDataSet = []\n",
    "        #add any necessary instance variables here\n",
    "\n",
    "    def loadData(self, path, fileName):\n",
    "        #Your Code\n",
    "\n",
    "    def dataSplit(self, dataList, ratio):\n",
    "        #Your Code\n",
    "\n",
    "    def fit(self, trainingSet): #to build a linear regression model\n",
    "        #Your Code\n",
    "\n",
    "    def predict(self, testSet):\n",
    "        #Your Code\n",
    "\n",
    "    def eval(self, result): #calculate RMSE\n",
    "        #Your Code\n",
    "\n",
    "    #Define static methonds for all utility functions, such as: \n",
    "    #mean, min, max, variance, covariance, etc.\n",
    "\n",
    "    #Please define other variables, methods as needed\n",
    "```"
   ]
  },
  {
   "cell_type": "code",
   "execution_count": 13,
   "metadata": {
    "colab": {
     "base_uri": "https://localhost:8080/"
    },
    "executionInfo": {
     "elapsed": 659,
     "status": "ok",
     "timestamp": 1650920665199,
     "user": {
      "displayName": "Yongning Tang",
      "userId": "15267084954923866581"
     },
     "user_tz": 300
    },
    "id": "ndYwXq0Ndl1R",
    "outputId": "5876ea21-b603-427c-db51-64fc3e3bcdef"
   },
   "outputs": [
    {
     "name": "stdout",
     "output_type": "stream",
     "text": [
      "Drive already mounted at /content/drive; to attempt to forcibly remount, call drive.mount(\"/content/drive\", force_remount=True).\n"
     ]
    }
   ],
   "source": [
    "#Mount drive if needed\n",
    "from google.colab import drive\n",
    "drive.mount('/content/drive')\n",
    "import os\n",
    "os.chdir(\"/content/drive/My Drive/Colab Notebooks/IT170\")"
   ]
  },
  {
   "cell_type": "code",
   "execution_count": 14,
   "metadata": {
    "colab": {
     "base_uri": "https://localhost:8080/"
    },
    "executionInfo": {
     "elapsed": 233,
     "status": "ok",
     "timestamp": 1650920672131,
     "user": {
      "displayName": "Yongning Tang",
      "userId": "15267084954923866581"
     },
     "user_tz": 300
    },
    "id": "yjkBn0q5ijaO",
    "outputId": "399bd71f-ae95-4ba1-a19d-777110543ff0"
   },
   "outputs": [
    {
     "name": "stdout",
     "output_type": "stream",
     "text": [
      " access-sample.log\t\t   'Copy of IT170InClassEx3.ipynb'\n",
      " Ch0.ipynb\t\t\t    InClass_Ex_FindPhoneNumber.ipynb\n",
      "'Ch10-Networking Modules.ipynb'     IT170-assignment2.doc\n",
      "'Ch1 Python Basics.ipynb'\t    IT170InClassEx3.ipynb\n",
      "'Ch2 Flow Control.ipynb'\t   'IT170-Programming Assignment 3.ipynb'\n",
      " Ch3-Function.ipynb\t\t   'IT170-Programming Assignment 4.ipynb'\n",
      " Ch4-List-Tuple-Set.ipynb\t   'IT170-Programming Assignment 4-sol.ipynb'\n",
      "'Ch5-Dictionary and String.ipynb'   MiniProject.ipynb\n",
      " Ch6-FileAccess.ipynb\t\t    MiniProject-OOP.ipynb\n",
      " Ch7-RegularExpression.ipynb\t    mydata.db\n",
      " Ch8-OOP-I.ipynb\t\t    OOP-InClassExercise.ipynb\n",
      " Ch9.ipynb\t\t\t    RegEx-InClassExercise.ipynb\n",
      " Ch9-OOP-II.ipynb\t\t    RegularExpression.ipynb\n",
      " Ch-Appendix-A.ipynb\t\t    salary.csv\n",
      " Ch-Appendix-B.ipynb\t\t    UserLog\n",
      " Ch-LogAnalyzer.ipynb\t\t    UserLog.zip\n",
      " Ch-Pandas-Excel.ipynb\n"
     ]
    }
   ],
   "source": [
    "!ls"
   ]
  },
  {
   "cell_type": "code",
   "execution_count": 26,
   "metadata": {
    "colab": {
     "base_uri": "https://localhost:8080/"
    },
    "executionInfo": {
     "elapsed": 544,
     "status": "ok",
     "timestamp": 1650923491010,
     "user": {
      "displayName": "Yongning Tang",
      "userId": "15267084954923866581"
     },
     "user_tz": 300
    },
    "id": "wWI03PfmO2T0",
    "outputId": "16287ebf-82a9-4e8f-a9e4-2728e84bdc79"
   },
   "outputs": [
    {
     "name": "stdout",
     "output_type": "stream",
     "text": [
      "b0 is 25841.835216719846; b1 is 9495.066836353546\n",
      "RMSE is 3526.6003240258697\n"
     ]
    }
   ],
   "source": [
    "from pathlib import Path\n",
    "import math, random, os\n",
    "\n",
    "def sumList(aList):\n",
    "    sum = 0\n",
    "    for item in aList:\n",
    "        sum += float(item)\n",
    "    return sum\n",
    "\n",
    "def meanList(aList):\n",
    "    return sumList(aList) / len(aList)\n",
    "\n",
    "def minMaxList(aList):\n",
    "    min = aList[0]\n",
    "    max = aList[0]\n",
    "    for i in aList:\n",
    "        if i > max:\n",
    "            max = i\n",
    "        if i < min:\n",
    "            min = i\n",
    "    return min, max\n",
    "\n",
    "#To calculate standard deviation\n",
    "def stdevList(aList):\n",
    "    s = 0\n",
    "    sum = 0\n",
    "    mean = meanList(aList)\n",
    "    for i in aList:\n",
    "        sum += (i - mean) ** 2\n",
    "    stdev = math.sqrt(sum/len(aList))\n",
    "    return stdev\n",
    "\n",
    "# Calculate the variance of a list of numbers\n",
    "def varianceList(aList):\n",
    "    mean = meanList(aList)\n",
    "    return sumList([(float(x) - mean)**2 for x in aList])/(len(aList)-1)\n",
    "\n",
    "# Calculate the covariance of two lists of numbers\n",
    "#The two lists should have the same dimension.\n",
    "def covarianceList(aList, bList):\n",
    "    covar = 0.0\n",
    "    meanA = meanList(aList)\n",
    "    meanB = meanList(bList)\n",
    "    for idx in range(len(aList)):\n",
    "        covar += (float(aList[idx]) - meanA) * (float(bList[idx]) - meanB)\n",
    "    return covar/(len(aList)-1)\n",
    "\n",
    "class MyLinearRegression:\n",
    "    def __init__(self):\n",
    "        self.coef = None      #i.e., b1\n",
    "        self.intercept = None #i.e., b0\n",
    "        self.datasetList = []\n",
    "        self.trainDataSet = []\n",
    "        self.testDataSet = []\n",
    "        #add any necessary instance variables here\n",
    "\n",
    "    def loadData(self, path, fileName):\n",
    "        workDir = os.path.join(path, fileName)\n",
    "        with open(workDir) as file:\n",
    "            data = file.readlines()\n",
    "            for item in data:\n",
    "                s1 = item.strip()\n",
    "                s2 = s1.split(\",\")\n",
    "                self.datasetList.append(s2)\n",
    "\n",
    "    def dataSplit(self, dataList, ratio):\n",
    "        num_train = round(len(dataList) * ratio)\n",
    "        while len(self.trainDataSet) < num_train:\n",
    "            index = random.randint(0, len(dataList) - 1)\n",
    "            self.trainDataSet.append(dataList[index])\n",
    "            dataList.pop(index) \n",
    "        self.testDataSet = dataList  \n",
    "\n",
    "    def fit(self, trainingDatasetList): #to build a linear regression model\n",
    "        xList = [item[0] for item in trainingDatasetList]\n",
    "        yList = [item[1] for item in trainingDatasetList]\n",
    "        self.coef = covarianceList(xList, yList) / varianceList(xList) #b1\n",
    "        self.intercept = meanList(yList) - self.coef * meanList(xList) #b0\n",
    "\n",
    "    def predict(self, testsetList):\n",
    "        testResultList = []\n",
    "        for item in testsetList:\n",
    "            y_predict = self.intercept + self.coef * float(item[0])\n",
    "            testResultList.append([item[1], y_predict])\n",
    "        return testResultList #a list of actual and predicted value pairs\n",
    "\n",
    "    def eval(self, testResultList): #calculate RMSE\n",
    "        err = 0\n",
    "        for item in testResultList:\n",
    "            err += (float(item[0]) - float(item[1])) ** 2 \n",
    "        return (err / len(testResultList)) ** 0.5\n",
    "\n",
    "\n",
    "myRegressor = MyLinearRegression()\n",
    "myRegressor.loadData(\"./\", \"salary.csv\")\n",
    "myRegressor.dataSplit(myRegressor.datasetList, 0.8)\n",
    "myRegressor.fit(myRegressor.trainDataSet)\n",
    "testResult = myRegressor.predict(myRegressor.testDataSet)\n",
    "rmse = myRegressor.eval(testResult)\n",
    "\n",
    "print(f\"b0 is {myRegressor.intercept}; b1 is {myRegressor.coef}\")\n",
    "print(f\"RMSE is {rmse}\")\n"
   ]
  }
 ],
 "metadata": {
  "colab": {
   "authorship_tag": "ABX9TyPRwnKDK/DqMAaKQNuyS8Hw",
   "collapsed_sections": [],
   "name": "IT170-Programming Assignment 4-sol.ipynb",
   "provenance": [
    {
     "file_id": "1enLFzbRmYEcx-zyKBY9OohzA5qALaZD-",
     "timestamp": 1650912321051
    },
    {
     "file_id": "1JNCwHDHS1jI8kBpy-4ibcq-KBv1raJQ8",
     "timestamp": 1648427586651
    },
    {
     "file_id": "1ZHo5sBeDznxppiTMBv_Te-IPp1WaDm-i",
     "timestamp": 1646101301395
    },
    {
     "file_id": "19R3pFtSJt5CjvjVj2IPPTbD3lEaT9TBL",
     "timestamp": 1646061669752
    },
    {
     "file_id": "1sjwyMeadh0pXxEwxHXg_u3z8ubNVz9d3",
     "timestamp": 1645580376523
    },
    {
     "file_id": "1RTJFfrO0t8mjzbWIpkU6gNMjpSTXc8RZ",
     "timestamp": 1645302321086
    },
    {
     "file_id": "1tuS_mSxJXJPrZzZHO4XblviGmjGe2IG3",
     "timestamp": 1644814253230
    }
   ]
  },
  "kernelspec": {
   "display_name": "Python 3",
   "language": "python",
   "name": "python3"
  },
  "language_info": {
   "codemirror_mode": {
    "name": "ipython",
    "version": 3
   },
   "file_extension": ".py",
   "mimetype": "text/x-python",
   "name": "python",
   "nbconvert_exporter": "python",
   "pygments_lexer": "ipython3",
   "version": "3.8.8"
  }
 },
 "nbformat": 4,
 "nbformat_minor": 1
}
