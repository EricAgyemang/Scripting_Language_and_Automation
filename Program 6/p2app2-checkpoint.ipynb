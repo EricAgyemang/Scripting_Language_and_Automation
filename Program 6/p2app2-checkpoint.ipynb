{
 "cells": [
  {
   "cell_type": "code",
   "execution_count": 7,
   "metadata": {
    "colab": {
     "base_uri": "https://localhost:8080/",
     "height": 374
    },
    "executionInfo": {
     "elapsed": 289,
     "status": "error",
     "timestamp": 1645472345854,
     "user": {
      "displayName": "Dylan Oboikovitz",
      "photoUrl": "https://lh3.googleusercontent.com/a-/AOh14Gg3M6XxMSaD7CPHdUOyDg7umRiIsUVg9DZD7LkOcA=s64",
      "userId": "08225407350618468479"
     },
     "user_tz": 360
    },
    "id": "bGmLUx6EgC3I",
    "outputId": "1a4599f4-e588-4085-b204-55b24d8109eb"
   },
   "outputs": [
    {
     "ename": "ModuleNotFoundError",
     "errorDetails": {
      "actions": [
       {
        "action": "open_url",
        "actionText": "Open Examples",
        "url": "/notebooks/snippets/importing_libraries.ipynb"
       }
      ]
     },
     "evalue": "ignored",
     "output_type": "error",
     "traceback": [
      "\u001b[0;31m---------------------------------------------------------------------------\u001b[0m",
      "\u001b[0;31mModuleNotFoundError\u001b[0m                       Traceback (most recent call last)",
      "\u001b[0;32m<ipython-input-7-45bb2faa90ee>\u001b[0m in \u001b[0;36m<module>\u001b[0;34m()\u001b[0m\n\u001b[1;32m      2\u001b[0m \u001b[0;32mimport\u001b[0m \u001b[0msys\u001b[0m\u001b[0;34m\u001b[0m\u001b[0;34m\u001b[0m\u001b[0m\n\u001b[1;32m      3\u001b[0m \u001b[0msys\u001b[0m\u001b[0;34m.\u001b[0m\u001b[0mpath\u001b[0m\u001b[0;34m.\u001b[0m\u001b[0minsert\u001b[0m\u001b[0;34m(\u001b[0m\u001b[0;36m0\u001b[0m\u001b[0;34m,\u001b[0m\u001b[0;34m'/content/drive/My Drive?ColabNotebooks'\u001b[0m\u001b[0;34m)\u001b[0m\u001b[0;34m\u001b[0m\u001b[0;34m\u001b[0m\u001b[0m\n\u001b[0;32m----> 4\u001b[0;31m \u001b[0;32mimport\u001b[0m \u001b[0mp2lib2\u001b[0m\u001b[0;34m\u001b[0m\u001b[0;34m\u001b[0m\u001b[0m\n\u001b[0m\u001b[1;32m      5\u001b[0m \u001b[0;34m\u001b[0m\u001b[0m\n\u001b[1;32m      6\u001b[0m sampleList = [112.99,136.49,153.03,142.34,144.3,123.3,\n",
      "\u001b[0;31mModuleNotFoundError\u001b[0m: No module named 'p2lib2'",
      "",
      "\u001b[0;31m---------------------------------------------------------------------------\u001b[0;32m\nNOTE: If your import is failing due to a missing package, you can\nmanually install dependencies using either !pip or !apt.\n\nTo view examples of installing some common dependencies, click the\n\"Open Examples\" button below.\n\u001b[0;31m---------------------------------------------------------------------------\u001b[0m\n"
     ]
    }
   ],
   "source": [
    "from p2lib1 import *\n",
    "from p2lib2 import *\n",
    "sampleList = [112.99,136.49,153.03,142.34,144.3,123.3,\n",
    "           141.49,136.46,112.37,120.67,127.45,114.14,\n",
    "           125.61,122.46,116.09,140,129.5,142.97,137.9,\n",
    "           124.04,141.28,143.54,97.9,129.5,141.85,129.72,\n",
    "           142.42,131.55,108.33,113.89,103.3,120.75,125.79,\n",
    "           136.22,140.1,128.75,141.8,121.23,131.35,106.71,124.36,\n",
    "           124.86,139.67,137.37,106.45,128.76,145.68,116.82,143.62,\n",
    "           134.93,147.02,126.33,125.48,115.71,123.49,147.89,155.9,128.07,\n",
    "           119.37,133.81,128.73,137.55,129.76,128.82,135.32,109.61,142.47,\n",
    "           132.75,103.53,124.73,129.31,134.02,140.4,102.84,128.52,120.3,138.6,\n",
    "           132.96,115.62,122.52,134.63,121.9,155.38,128.94,129.1,139.47,140.89,\n",
    "           131.59,121.12,131.51,136.55,141.49,140.61,112.14,133.46,131.8,120.03,\n",
    "           123.1,128.14,115.48]\n",
    "\n",
    "\n",
    "\n",
    "\n",
    "print(\"Population:\", sampleList)\n",
    "sampleSizes=[5,10,30]\n",
    "\n",
    "\n",
    "for i in sampleSizes:\n",
    "  sample=sampling(sampleList, 0, True)\n",
    "  average=meanList(sample)\n",
    "  print(\"The sample of\",i,\" without replacement is\", average)\n",
    "\n",
    "for i in sampleSizes:\n",
    "  sample=sampling(sampleList, 0, False)\n",
    "  average=meanList(sample)\n",
    "  print(\"The sample of\",i,\"with replacement is\", average)\n",
    "\n",
    "#is there other ways to do this? i tried multiple ways but i feel like theres a better way"
   ]
  },
  {
   "cell_type": "markdown",
   "metadata": {
    "id": "Wp-pVKJew2ed"
   },
   "source": [
    "# New Section"
   ]
  }
 ],
 "metadata": {
  "colab": {
   "authorship_tag": "ABX9TyPdcymmqhe5FAHK/cwwEN/K",
   "collapsed_sections": [],
   "mount_file_id": "1FGd8dT6EXi-XYG_Jg83mH8LeWtJx0zmL",
   "name": "p2app2.ipynb",
   "provenance": []
  },
  "kernelspec": {
   "display_name": "Python 3",
   "language": "python",
   "name": "python3"
  },
  "language_info": {
   "codemirror_mode": {
    "name": "ipython",
    "version": 3
   },
   "file_extension": ".py",
   "mimetype": "text/x-python",
   "name": "python",
   "nbconvert_exporter": "python",
   "pygments_lexer": "ipython3",
   "version": "3.8.8"
  }
 },
 "nbformat": 4,
 "nbformat_minor": 1
}
