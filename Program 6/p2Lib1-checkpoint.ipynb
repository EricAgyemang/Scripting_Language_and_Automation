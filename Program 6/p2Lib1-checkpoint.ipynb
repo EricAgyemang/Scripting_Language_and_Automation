{
 "cells": [
  {
   "cell_type": "code",
   "execution_count": null,
   "metadata": {
    "colab": {
     "base_uri": "https://localhost:8080/"
    },
    "executionInfo": {
     "elapsed": 22,
     "status": "ok",
     "timestamp": 1645463106207,
     "user": {
      "displayName": "Dylan Oboikovitz",
      "photoUrl": "https://lh3.googleusercontent.com/a-/AOh14Gg3M6XxMSaD7CPHdUOyDg7umRiIsUVg9DZD7LkOcA=s64",
      "userId": "08225407350618468479"
     },
     "user_tz": 360
    },
    "id": "pqAsgjhHNt3x",
    "outputId": "88c88741-a5f5-4ebf-9b5f-ec7ddf09b1a9"
   },
   "outputs": [
    {
     "name": "stdout",
     "output_type": "stream",
     "text": [
      "12920.859999999997\n",
      "129.20859999999996\n",
      "(97.9, 155.9)\n",
      "12.060096767439306\n"
     ]
    }
   ],
   "source": [
    "sum=0\n",
    "def sumList(aList):\n",
    "  sum = 0\n",
    "  for item in aList:\n",
    "    sum = sum + item\n",
    "  return sum\n",
    "\n",
    "\n",
    "def meanList(aList):\n",
    "    sum=sumList(aList)\n",
    "    mean=sum/len(aList)\n",
    "    return mean\n",
    "\n",
    "def minMaxList(aList):\n",
    "  max_value = 0\n",
    "  min_value = 0\n",
    "\n",
    "  for num in aList:\n",
    "    if (max_value is 0 or num > max_value):\n",
    "        max_value = num\n",
    "  for num1 in aList:\n",
    "    if (min_value is 0 or num1 < min_value):\n",
    "        min_value = num1\n",
    "\n",
    "  \n",
    "  return min_value, max_value\n",
    "\n",
    "\n",
    "def stdevList(aList):\n",
    "    mean = meanList(aList)    \n",
    "    sumSqrt = 0    \n",
    "    for num in aList:\n",
    "        sumSqrt += (num - mean) ** 2        \n",
    "    meanSqrt = sumSqrt / len(aList)    \n",
    "    stddev = meanSqrt ** 0.5    \n",
    "    return stddev\n",
    "  \n",
    "\n",
    "\n",
    "\n",
    "\n"
   ]
  }
 ],
 "metadata": {
  "colab": {
   "authorship_tag": "ABX9TyOcY9F8YFNKErr87aC9dREj",
   "collapsed_sections": [],
   "mount_file_id": "14HbIM4okY2BjLsd4uF4CmgIgs5QAml4z",
   "name": "p2Lib1",
   "provenance": []
  },
  "kernelspec": {
   "display_name": "Python 3",
   "language": "python",
   "name": "python3"
  },
  "language_info": {
   "codemirror_mode": {
    "name": "ipython",
    "version": 3
   },
   "file_extension": ".py",
   "mimetype": "text/x-python",
   "name": "python",
   "nbconvert_exporter": "python",
   "pygments_lexer": "ipython3",
   "version": "3.8.8"
  }
 },
 "nbformat": 4,
 "nbformat_minor": 1
}
