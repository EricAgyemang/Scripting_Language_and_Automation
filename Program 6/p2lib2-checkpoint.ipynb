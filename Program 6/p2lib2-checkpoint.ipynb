{
 "cells": [
  {
   "cell_type": "code",
   "execution_count": null,
   "metadata": {
    "id": "tsRFYQneZq82"
   },
   "outputs": [],
   "source": [
    "import random\n",
    "def sampling(aList, sampleSize, withReplacement=True):\n",
    "   \n",
    "    if withReplacement:      \n",
    "        return [aList[random.randint(0, len(aList) - 1)] for _ in range(sampleSize)]\n",
    "    else:\n",
    "        indexMult = list(range(len(aList)))\n",
    "        sampledItems = []\n",
    "        for _ in range(sampleSize):\n",
    "            index = random.randint(0, len(indexMult) - 1)\n",
    "            sampledItems.append(aList[indexMult[index]])\n",
    "            del indexMult[index]\n",
    "        return sampledItems\n",
    "\n",
    "\n"
   ]
  }
 ],
 "metadata": {
  "colab": {
   "authorship_tag": "ABX9TyO3NvrRJMmt6IjA5n6/+E7S",
   "collapsed_sections": [],
   "name": "p2lib2",
   "provenance": []
  },
  "kernelspec": {
   "display_name": "Python 3",
   "language": "python",
   "name": "python3"
  },
  "language_info": {
   "codemirror_mode": {
    "name": "ipython",
    "version": 3
   },
   "file_extension": ".py",
   "mimetype": "text/x-python",
   "name": "python",
   "nbconvert_exporter": "python",
   "pygments_lexer": "ipython3",
   "version": "3.8.8"
  }
 },
 "nbformat": 4,
 "nbformat_minor": 1
}
