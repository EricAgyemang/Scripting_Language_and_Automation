{
  "nbformat": 4,
  "nbformat_minor": 0,
  "metadata": {
    "colab": {
      "name": "Ch9.ipynb",
      "provenance": []
    },
    "kernelspec": {
      "name": "python3",
      "display_name": "Python 3"
    }
  },
  "cells": [
    {
      "cell_type": "markdown",
      "metadata": {
        "id": "Fr1zQgK9nTKj",
        "colab_type": "text"
      },
      "source": [
        "#Objects and Classes"
      ]
    },
    {
      "cell_type": "markdown",
      "metadata": {
        "id": "ABeGor7KpM39",
        "colab_type": "text"
      },
      "source": [
        "As we discussed earlier, everything in Python, from numbers to modules, is an object. However, Python hides most of the object machinery by means of special syntax. You can type num = 7 to create a object of type integer with the value 7, and assign an object reference to the name num. The only time you need to look inside objects is when you want to make your own or modify the behavior of existing objects. You’ll see how to do both in this chapter.\n",
        "\n",
        "An object contains both **data** (variables, called attributes) and **code** (functions, called methods). It represents a unique instance of some concrete thing.  For example, the integer object with the value 7 is an object that facilitates many relevant methods such as addition and multiplication. You may create another  object with a different value 8 (of course, you can set it to the same value as well). This means there’s an Integer class in Python, to which both 7 and 8 belong. \n",
        "\n",
        "When you create new objects no one has ever created before, you must create a class that indicates what they contain."
      ]
    },
    {
      "cell_type": "markdown",
      "metadata": {
        "id": "8G2VQXvMt2kG",
        "colab_type": "text"
      },
      "source": [
        "##Define a Class with class\n",
        "\n",
        "If we consider an object as a storage box,  a class is like the mold that makes that box. For instance, a String is the built-in Python class that makes string objects\n",
        "such as 'cat' and 'duck'. Python has many other built-in classes to create the other\n",
        "standard data types, including lists, dictionaries, and so on. To create your own custom object in Python, you first need to define a class by using the *class* keyword. Let’s walk through a simple example.\n",
        "\n",
        "Suppose that you want to define objects to represent information about people. Each object will represent one person. You’ll first want to define a class called Person as the mold. In the examples that follow, we’ll try more than one version of this class as we build up from the simplest class to ones that actually do something useful.\n"
      ]
    },
    {
      "cell_type": "code",
      "metadata": {
        "id": "WE_4fTkz2sZ1",
        "colab_type": "code",
        "colab": {}
      },
      "source": [
        "class Person():\n",
        "  pass"
      ],
      "execution_count": 0,
      "outputs": []
    },
    {
      "cell_type": "markdown",
      "metadata": {
        "id": "DOpFLFwH2x_u",
        "colab_type": "text"
      },
      "source": [
        "Just as with functions, we needed to say pass to indicate that this class was empty. This definition is the bare minimum to create an object. You create an object from a class by calling the class name as though it were a function:"
      ]
    },
    {
      "cell_type": "code",
      "metadata": {
        "id": "7sNH_2Rt4qkR",
        "colab_type": "code",
        "colab": {}
      },
      "source": [
        "someone = Person()"
      ],
      "execution_count": 0,
      "outputs": []
    },
    {
      "cell_type": "markdown",
      "metadata": {
        "id": "Mbp76Nl71JkI",
        "colab_type": "text"
      },
      "source": [
        "##Class And Object Variables\n",
        "\n",
        "We have already discussed the functionality part of classes and objects (i.e. methods), now let us learn about the data part. The data part, i.e. fields, are nothing but ordinary variables that are bound to the **namespaces** of the classes and objects. This means that these names are valid within the context of these classes and objects only. That's why they are called name spaces.\n",
        "\n",
        "There are two types of fields - class variables and object variables which are classified depending on whether the class or the object owns the variables respectively.\n",
        "\n",
        "Class variables are shared - they can be accessed by all instances of that class. There is only one copy of the class variable and when any one object makes a change to a class variable, that change will be seen by all the other instances.\n",
        "\n",
        "Object variables are owned by each individual object/instance of the class. In this case, each object has its own copy of the field i.e. they are not shared and are not related in any way to the field by the same name in a different instance. An example will make this easy to understand (save as oop_objvar.py):"
      ]
    },
    {
      "cell_type": "code",
      "metadata": {
        "id": "opZHex9S2XQ1",
        "colab_type": "code",
        "colab": {
          "base_uri": "https://localhost:8080/",
          "height": 269
        },
        "outputId": "80356f98-6f00-4cd6-85ed-297c7311e331"
      },
      "source": [
        "class Robot:\n",
        "    \"\"\"Represents a robot, with a name.\"\"\"\n",
        "\n",
        "    # A class variable, counting the number of robots\n",
        "    population = 0\n",
        "\n",
        "    def __init__(self, name):\n",
        "        \"\"\"Initializes the data.\"\"\"\n",
        "        self.name = name\n",
        "        print(\"(Initializing {})\".format(self.name))\n",
        "\n",
        "        # When this person is created, the robot\n",
        "        # adds to the population\n",
        "        Robot.population += 1\n",
        "\n",
        "    def die(self):\n",
        "        \"\"\"I am dying.\"\"\"\n",
        "        print(\"{} is being destroyed!\".format(self.name))\n",
        "\n",
        "        Robot.population -= 1\n",
        "\n",
        "        if Robot.population == 0:\n",
        "            print(\"{} was the last one.\".format(self.name))\n",
        "        else:\n",
        "            print(\"There are still {:d} robots working.\".format(\n",
        "                Robot.population))\n",
        "\n",
        "    def say_hi(self):\n",
        "        \"\"\"Greeting by the robot.\n",
        "\n",
        "        Yeah, they can do that.\"\"\"\n",
        "        print(\"Greetings, my masters call me {}.\".format(self.name))\n",
        "\n",
        "    @classmethod\n",
        "    def how_many(cls):\n",
        "        \"\"\"Prints the current population.\"\"\"\n",
        "        print(\"We have {:d} robots.\".format(cls.population))\n",
        "\n",
        "\n",
        "droid1 = Robot(\"R2-D2\")\n",
        "droid1.say_hi()\n",
        "Robot.how_many()\n",
        "\n",
        "droid2 = Robot(\"C-3PO\")\n",
        "droid2.say_hi()\n",
        "Robot.how_many()\n",
        "\n",
        "print(\"\\nRobots can do some work here.\\n\")\n",
        "\n",
        "print(\"Robots have finished their work. So let's destroy them.\")\n",
        "droid1.die()\n",
        "droid2.die()\n",
        "\n",
        "Robot.how_many()"
      ],
      "execution_count": 1,
      "outputs": [
        {
          "output_type": "stream",
          "text": [
            "(Initializing R2-D2)\n",
            "Greetings, my masters call me R2-D2.\n",
            "We have 1 robots.\n",
            "(Initializing C-3PO)\n",
            "Greetings, my masters call me C-3PO.\n",
            "We have 2 robots.\n",
            "\n",
            "Robots can do some work here.\n",
            "\n",
            "Robots have finished their work. So let's destroy them.\n",
            "R2-D2 is being destroyed!\n",
            "There are still 1 robots working.\n",
            "C-3PO is being destroyed!\n",
            "C-3PO was the last one.\n",
            "We have 0 robots.\n"
          ],
          "name": "stdout"
        }
      ]
    },
    {
      "cell_type": "markdown",
      "metadata": {
        "id": "Vy_1GSEkpiXt",
        "colab_type": "text"
      },
      "source": [
        "##Inheritance\n",
        "\n",
        "One of the major benefits of object oriented programming is reuse of code and one of the ways this is achieved is through the inheritance mechanism. Inheritance can be best imagined as implementing a type and subtype relationship between classes.\n",
        "\n",
        "Suppose you want to write a program which has to keep track of the teachers and students in a college. They have some common characteristics such as name, age and address. They also have specific characteristics such as salary, courses and leaves for teachers and, marks and fees for students.\n",
        "\n",
        "You can create two independent classes for each type and process them but adding a new common characteristic would mean adding to both of these independent classes. This quickly becomes unwieldy.\n",
        "\n",
        "A better way would be to create a common class called SchoolMember and then have the teacher and student classes inherit from this class, i.e. they will become sub-types of this type (class) and then we can add specific characteristics to these sub-types.\n",
        "\n",
        "There are many advantages to this approach. If we add/change any functionality in SchoolMember, this is automatically reflected in the subtypes as well. For example, you can add a new ID card field for both teachers and students by simply adding it to the SchoolMember class. However, changes in the subtypes do not affect other subtypes. Another advantage is that you can refer to a teacher or student object as a SchoolMember object which could be useful in some situations such as counting of the number of school members. This is called polymorphism where a sub-type can be substituted in any situation where a parent type is expected, i.e. the object can be treated as an instance of the parent class.\n",
        "\n",
        "Also observe that we reuse the code of the parent class and we do not need to repeat it in the different classes as we would have had to in case we had used independent classes.\n",
        "\n",
        "The SchoolMember class in this situation is known as the base class or the superclass. The Teacher and Student classes are called the derived classes or subclasses.\n",
        "\n"
      ]
    },
    {
      "cell_type": "markdown",
      "metadata": {
        "id": "bYSPRQ8IjjXm",
        "colab_type": "text"
      },
      "source": [
        "##The format method\n",
        "\n",
        "Sometimes we may want to construct strings from other information. This is where the format() method is useful.\n",
        "\n",
        "\n",
        "\n"
      ]
    },
    {
      "cell_type": "code",
      "metadata": {
        "id": "EZPcQQNEkvqZ",
        "colab_type": "code",
        "outputId": "40352378-461e-4f5c-d9b6-a00d747971de",
        "colab": {
          "base_uri": "https://localhost:8080/",
          "height": 50
        }
      },
      "source": [
        "courseNum = 170\n",
        "name = 'Alice'\n",
        "\n",
        "print('{0} is taking IT {1}'.format(name, courseNum))\n",
        "print('I am impressed to see how {0} is playing with Python now'.format(name))"
      ],
      "execution_count": 2,
      "outputs": [
        {
          "output_type": "stream",
          "text": [
            "Alice is taking IT 170\n",
            "I am impressed to see how Alice is playing with Python now\n"
          ],
          "name": "stdout"
        }
      ]
    },
    {
      "cell_type": "markdown",
      "metadata": {
        "id": "bqZc-i82loz-",
        "colab_type": "text"
      },
      "source": [
        "##How It Works\n",
        "\n",
        "str.format() is one of the string formatting methods in Python3, which allows multiple substitutions and value formatting. This method lets us concatenate elements within a string through positional formatting.\n",
        "\n",
        "Using a Single Formatter :\n",
        "Formatters work by putting in one or more replacement fields and placeholders defined by a pair of curly braces { } into a string and calling the str.format(). The value we wish to put into the placeholders and concatenate with the string passed as parameters into the format function.\n",
        "\n",
        "A string can use certain specifications and subsequently, the format method can be called to substitute those specifications with corresponding arguments to the format method.\n",
        "\n",
        "Observe the first usage where we use {0} and this corresponds to the variable name which is the first argument to the format method. Similarly, the second specification is {1} corresponding to age which is the second argument to the format method. Note that Python starts counting from 0 which means that first position is at index 0, second position is at index 1, and so on.\n",
        "\n",
        "Please note, if we don't use position index, Python will match {} in order to the values in the format method. \n",
        "\n",
        "Syntax : { } .format(value)\n",
        "\n",
        "Parameters :\n",
        "(value) : Can be an integer, floating point numeric constant, string, or even variables.\n",
        "\n",
        "Returntype : Returns a formatted string with the value passed as parameter in the placeholder position.\n",
        "\n",
        "Using Multiple Formatters :\n",
        "Multiple pairs of curly braces can be used while formatting the string. Let’s say if another variable substitution is needed in sentence, can be done by adding a second pair of curly braces and passing a second value into the method. Python will replace the placeholders by values in order.\n",
        "\n",
        "Syntax : { } { } .format(value1, value2)\n",
        "\n",
        "Parameters :\n",
        "(value1, value2) : Can be integers, floating point numeric constants, strings, and even variables. Only difference is, the number of values passed as parameters in format() method must be equal to the number of placeholders created in the string.\n",
        "\n",
        "**Inside the placeholders you can add a formatting type to format the result:**\n",
        "\n",
        ":<\t\tLeft aligns the result (within the available space)\n",
        "\n",
        ":>\t\tRight aligns the result (within the available space)\n",
        "\n",
        ":^\t\tCenter aligns the result (within the available space)\n",
        "\n",
        ":=\t\tPlaces the sign to the left most position\n",
        "\n",
        ":+\t\tUse a plus sign to indicate if the result is positive or negative\n",
        "\n",
        ":-\t\tUse a minus sign for negative values only\n",
        "\n",
        ": \t\tUse a space to insert an extra space before positive numbers (and a minus sign befor negative numbers)\n",
        "\n",
        ":,\t\tUse a comma as a thousand separator\n",
        "\n",
        ":_\t\tUse a underscore as a thousand separator\n",
        "\n",
        ":b\t\tBinary format\n",
        "\n",
        ":c\t\tConverts the value into the corresponding unicode character\n",
        "\n",
        ":d\t\tDecimal format\n",
        "\n",
        ":e\t\tScientific format, with a lower case e\n",
        "\n",
        ":E\t\tScientific format, with an upper case E\n",
        "\n",
        ":f\t\tFix point number format\n",
        "\n",
        ":F\t\tFix point number format, in uppercase format (show inf and nan as INF and NAN)\n",
        "\n",
        ":g\t\tGeneral format\n",
        "\n",
        ":G\t\tGeneral format (using a upper case E for scientific notations)\n",
        "\n",
        ":o\t\tOctal format\n",
        "\n",
        ":x\t\tHex format, lower case\n",
        "\n",
        ":X\t\tHex format, upper case\n",
        "\n",
        ":n\t\tNumber format\n",
        "\n",
        ":%\t\tPercentage format"
      ]
    },
    {
      "cell_type": "code",
      "metadata": {
        "id": "MeMsOkQzv6T3",
        "colab_type": "code",
        "outputId": "9c67a881-6cf2-4fa1-8096-49043a29ecbd",
        "colab": {
          "base_uri": "https://localhost:8080/",
          "height": 134
        }
      },
      "source": [
        "class SchoolMember:\n",
        "    '''Represents any school member.'''\n",
        "    def __init__(self, name, age):\n",
        "        self.name = name\n",
        "        self.age = age\n",
        "        print('(Initialized SchoolMember: {})'.format(self.name))\n",
        "\n",
        "    def tell(self):\n",
        "        '''Tell my details.'''\n",
        "        print('Name:\"{}\" Age:\"{}\"'.format(self.name, self.age), end=\" \")\n",
        "\n",
        "\n",
        "class Teacher(SchoolMember):\n",
        "    '''Represents a teacher.'''\n",
        "    def __init__(self, name, age, salary):\n",
        "        SchoolMember.__init__(self, name, age)\n",
        "        self.salary = salary\n",
        "        print('(Initialized Teacher: {})'.format(self.name))\n",
        "\n",
        "    def tell(self):\n",
        "        SchoolMember.tell(self)\n",
        "        print('Salary: \"{:d}\"'.format(self.salary))\n",
        "\n",
        "\n",
        "class Student(SchoolMember):\n",
        "    '''Represents a student.'''\n",
        "    def __init__(self, name, age, marks):\n",
        "        SchoolMember.__init__(self, name, age)\n",
        "        self.marks = marks\n",
        "        print('(Initialized Student: {})'.format(self.name))\n",
        "\n",
        "    def tell(self):\n",
        "        SchoolMember.tell(self)\n",
        "        print('Marks: \"{:d}\"'.format(self.marks))\n",
        "\n",
        "t = Teacher('Mr. Eric', 40, 30000)\n",
        "s = Student('Alice', 25, 75)\n",
        "\n",
        "# prints a blank line\n",
        "print()\n",
        "\n",
        "members = [t, s]\n",
        "for member in members:\n",
        "    # Works for both Teachers and Students\n",
        "    member.tell()"
      ],
      "execution_count": 0,
      "outputs": [
        {
          "output_type": "stream",
          "text": [
            "(Initialized SchoolMember: Mr. Eric)\n",
            "(Initialized Teacher: Mr. Eric)\n",
            "(Initialized SchoolMember: Alice)\n",
            "(Initialized Student: Alice)\n",
            "\n",
            "Name:\"Mr. Eric\" Age:\"40\" Salary: \"30000\"\n",
            "Name:\"Alice\" Age:\"25\" Marks: \"75\"\n"
          ],
          "name": "stdout"
        }
      ]
    },
    {
      "cell_type": "code",
      "metadata": {
        "id": "FWqVuH2tzBSO",
        "colab_type": "code",
        "colab": {}
      },
      "source": [
        ""
      ],
      "execution_count": 0,
      "outputs": []
    }
  ]
}